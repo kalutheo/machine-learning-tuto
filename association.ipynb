{
 "cells": [
  {
   "cell_type": "markdown",
   "metadata": {},
   "source": [
    "# Unsupervised Machine Learning\n",
    "## Association"
   ]
  },
  {
   "cell_type": "code",
   "execution_count": 26,
   "metadata": {},
   "outputs": [],
   "source": [
    "import matplotlib.pyplot as plt\n",
    "import mlxtend.frequent_patterns\n",
    "import mlxtend.preprocessing\n",
    "import numpy\n",
    "import pandas"
   ]
  },
  {
   "cell_type": "code",
   "execution_count": 27,
   "metadata": {},
   "outputs": [],
   "source": [
    "example = [\n",
    "    ['milk', 'bread', 'apples', 'cereal', 'jelly', 'cookies', 'salad', 'tomatoes'],\n",
    "    ['beer', 'milk', 'chips', 'salsa', 'grapes', 'wine', 'potatoes', 'eggs', 'carrots'],\n",
    "    ['diapers', 'baby formula', 'milk', 'bread', 'chicken', 'asparagus', 'cookies'],\n",
    "    ['milk', 'cookies', 'chicken', 'asparagus', 'broccoli', 'cereal', 'orange juice'],\n",
    "    ['steak', 'asparagus', 'broccoli', 'chips', 'salsa', 'ketchup', 'potatoes', 'salad'],\n",
    "    ['beer', 'salsa', 'asparagus', 'wine', 'cheese', 'crackers', 'strawberries', 'cookies'],\n",
    "    ['chocolate cake', 'strawberries', 'wine', 'cheese', 'beer', 'milk', 'orange juice'],\n",
    "    ['chicken', 'peas', 'broccoli', 'milk', 'bread', 'eggs', 'potatoes', 'ketchup', 'crackers'],\n",
    "    ['eggs', 'bread', 'cheese', 'turkey', 'salad', 'tomatoes', 'wine', 'steak', 'carrots'],\n",
    "    ['bread', 'milk', 'tomatoes', 'cereal', 'chicken', 'turkey', 'chips', 'salsa', 'diapers']\n",
    "]"
   ]
  },
  {
   "cell_type": "code",
   "execution_count": 28,
   "metadata": {},
   "outputs": [
    {
     "name": "stdout",
     "output_type": "stream",
     "text": [
      "N = 10\n",
      "MILK Freq(x) = 7\n",
      "BREAD Freq(y) = 5\n",
      "BOTH Freq(x, y) = 4\n"
     ]
    }
   ],
   "source": [
    "# the number of transactions\n",
    "N = len(example)\n",
    "# the frequency of milk\n",
    "f_x = sum(['milk' in i for i in example])\n",
    "# the frequency of bread\n",
    "f_y = sum(['bread' in i for i in example])\n",
    "# the frequency of milk and bread\n",
    "f_x_y = sum([\n",
    "    all(w in i for w in ['milk', 'bread']) \n",
    "    for i in example\n",
    "])\n",
    "# print out the metrics computed above\n",
    "print(\n",
    "    \"N = {}\\n\".format(N) + \n",
    "    \"MILK Freq(x) = {}\\n\".format(f_x) + \n",
    "    \"BREAD Freq(y) = {}\\n\".format(f_y) + \n",
    "    \"BOTH Freq(x, y) = {}\".format(f_x_y)\n",
    ")"
   ]
  },
  {
   "cell_type": "markdown",
   "metadata": {},
   "source": [
    "### Support\n",
    "Support is simply the probability that a given item set appears in the data"
   ]
  },
  {
   "cell_type": "code",
   "execution_count": 29,
   "metadata": {},
   "outputs": [
    {
     "name": "stdout",
     "output_type": "stream",
     "text": [
      "Probability that BREAD & MILK are bought together = 0.4\n"
     ]
    }
   ],
   "source": [
    "# support (supp)\n",
    "\n",
    "support = f_x_y / N\n",
    "print(\"Probability that BREAD & MILK are bought together = {}\".format(round(support, 4)))"
   ]
  },
  {
   "cell_type": "markdown",
   "metadata": {},
   "source": [
    "### Confidence\n",
    "\n",
    "basically the probability that product B is purchased given the purchase of product A\n"
   ]
  },
  {
   "cell_type": "code",
   "execution_count": 30,
   "metadata": {},
   "outputs": [
    {
     "name": "stdout",
     "output_type": "stream",
     "text": [
      "Probability that BREAD is bought given the purchase of MILK = 0.5714\n"
     ]
    }
   ],
   "source": [
    "confidence = support / (f_x / N)\n",
    "print(\"Probability that BREAD is bought given the purchase of MILK = {}\".format(round(confidence, 4)))"
   ]
  },
  {
   "cell_type": "markdown",
   "metadata": {},
   "source": [
    "### Lift & Leverage\n",
    "\n",
    "if product A is bought by an individual, can we say anything about whether they will or will not purchase product B with some level of confidence?\n",
    "\n",
    "When the value is greater than 1, the second item is more likely to be purchased if the first item is purchased"
   ]
  },
  {
   "cell_type": "code",
   "execution_count": 31,
   "metadata": {},
   "outputs": [
    {
     "name": "stdout",
     "output_type": "stream",
     "text": [
      "Lift = 1.1429\n",
      "Leverage = 0.05\n",
      "Shows that BREAD is likely to be bought given the purchase of MILK\n"
     ]
    }
   ],
   "source": [
    "# lift: x -> y\n",
    "\n",
    "lift = confidence / (f_y / N)\n",
    "# leverage: x -> y\n",
    "\n",
    "leverage = support - ((f_x / N) * (f_y / N))\n",
    "print(\"Lift = {}\".format(round(lift, 4)))\n",
    "print(\"Leverage = {}\".format(round(leverage, 4)))\n",
    "\n",
    "print(\"Shows that BREAD is likely to be bought given the purchase of MILK\")"
   ]
  },
  {
   "cell_type": "markdown",
   "metadata": {},
   "source": [
    "## Conviction\n",
    "\n",
    "Conviction is the ratio of the expected frequency that X occurs without Y, given that X and Y are independent of the frequency of incorrect predictions. "
   ]
  },
  {
   "cell_type": "code",
   "execution_count": 32,
   "metadata": {},
   "outputs": [
    {
     "name": "stdout",
     "output_type": "stream",
     "text": [
      "Conviction = {} 1.1667\n",
      "We can conclude by saying that MILK => BREAD would be incorrect 1.1667 times as often if MILK and BEAD were independent\n"
     ]
    }
   ],
   "source": [
    "# conviction: x -> y\n",
    "\n",
    "conviction = (1 - (f_y / N)) / (1 - confidence)\n",
    "conv = format(round(conviction, 4))\n",
    "print(\"Conviction = {} \" + conv)\n",
    "print(\"We can conclude by saying that MILK => BREAD would be incorrect \" + conv +\" times as often if MILK and BEAD were independent\")"
   ]
  }
 ],
 "metadata": {
  "interpreter": {
   "hash": "aee8b7b246df8f9039afb4144a1f6fd8d2ca17a180786b69acc140d282b71a49"
  },
  "kernelspec": {
   "display_name": "Python 3.9.6 64-bit",
   "language": "python",
   "name": "python3"
  },
  "language_info": {
   "codemirror_mode": {
    "name": "ipython",
    "version": 3
   },
   "file_extension": ".py",
   "mimetype": "text/x-python",
   "name": "python",
   "nbconvert_exporter": "python",
   "pygments_lexer": "ipython3",
   "version": "3.9.7"
  },
  "orig_nbformat": 4
 },
 "nbformat": 4,
 "nbformat_minor": 2
}
